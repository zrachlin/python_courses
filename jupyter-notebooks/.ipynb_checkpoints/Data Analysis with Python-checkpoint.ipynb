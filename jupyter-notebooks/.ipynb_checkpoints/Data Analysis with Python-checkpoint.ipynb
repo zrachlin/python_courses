{
 "cells": [
  {
   "cell_type": "markdown",
   "metadata": {},
   "source": [
    "# Introduction to Jupyter\n",
    "\n",
    "### Keyboard shortcuts\n",
    "\n",
    "- Pres Esc key to enable / disable\n",
    "- Executing cells - Esc, Shft-Enter OR Ctrl-Enter\n",
    "- Adding a cell above Esc, A\n",
    "- Adding a cell below - Esc, B\n",
    "- Delete a cell - Esc, D, D\n",
    "- Copy, Cut, Paste - Ctrl-C, Ctrl-X, Ctrl-V\n",
    "- Undo - Ctrl-Z\n",
    "- Select all - Ctrl-A\n",
    "- Comment Cell - Ctrl-/"
   ]
  },
  {
   "cell_type": "markdown",
   "metadata": {},
   "source": [
    "# Data Analysis with Python\n",
    "\n",
    "### Why use Python for Data Analysis?\n",
    "\n",
    "#### Python vs R\n",
    "- Infographic:  https://www.datacamp.com/community/tutorials/r-or-python-for-data-analysis\n",
    "- You can do most things in both languages\n",
    "- R was designed with statistical analyiss in mind / Python is a more general purpose language\n",
    "- Python is easier to learn and read\n",
    "- R is great for building standalone pipelines / Python is more flexible (Scripting / Web Applications)\n",
    "- You can run R code from Python and vice versa! (rPython in R, RPy2 in Python)\n",
    "- R built in data structures for large dataset (or use data.table package) / Python (pandas or NumPy)\n",
    "- Visualizations easier in R, but not easily integrated into Web Apps\n",
    "- Python is easier to learn\n",
    "- Both have great community support\n",
    "\n",
    "#### NumPy\n",
    "- Used for matrices with only one data type (Ex. gene expression data)\n",
    "- http://www.numpy.org/\n",
    "\n",
    "#### Pandas Dataframes\n",
    "- Used like a database, can store multiple different datatypes with column headers and row names\n",
    "- http://pandas.pydata.org/\n",
    "\n",
    "#### Plotting and Visualization - Matplotlib, plotly and Seaborn\n",
    "- Many good visualization libraries\n",
    "\n",
    "#### Machine Learning - Scikit Learn\n",
    "- Take our Machine Learning with Python Course!"
   ]
  },
  {
   "cell_type": "markdown",
   "metadata": {},
   "source": [
    "# Steps to Analyze Your Data\n",
    "\n",
    "1. Loading your data (csv, databases, text file, JSON/XML)\n",
    "2. Data Exploration\n",
    "3. Cleaning data\n",
    "4. Normalizing Data\n",
    "5. Analysis\n",
    "6. Plotting and Visualization"
   ]
  },
  {
   "cell_type": "markdown",
   "metadata": {},
   "source": [
    "# Managing Packages\n",
    "\n",
    "### PyPi\n",
    "- PyPi is the index of publicly available packages\n",
    "- https://pypi.org/\n",
    "\n",
    "### Pip\n",
    "- Check if pip is installed\n",
    "    1. Open a command prompt (Windows) or terminal (Mac)\n",
    "    2. Type 'python -V'\n",
    "    3. Type 'pip -V'\n",
    "- pip is the tool used for managing packages in Python\n",
    "- Installed with python3\n",
    "- Install all packages that are not a part of standard python library\n",
    "- https://pypi.org/project/pip/\n",
    "\n",
    "### Package we will use in this course\n",
    "- numpy, pandas, matplotlib, seaborn\n",
    "- Check what packages are installed with help(\"modules\")\n",
    "- Install packages from the command line\n",
    "    1. Open a command prompt (Windows) or Terminal (Mac)\n",
    "    2. Type 'pip install <package-name>' (ex. pip install pandas, pip install numpy)\n",
    "\n",
    "### Importing packages\n",
    "- use import statement to allow your code to use a package"
   ]
  },
  {
   "cell_type": "code",
   "execution_count": null,
   "metadata": {},
   "outputs": [],
   "source": [
    "# What packages are already installed?\n",
    "help(\"modules\")"
   ]
  },
  {
   "cell_type": "code",
   "execution_count": null,
   "metadata": {},
   "outputs": [],
   "source": [
    "import numpy\n",
    "import pandas"
   ]
  },
  {
   "cell_type": "markdown",
   "metadata": {},
   "source": [
    "# Loading your Data\n",
    "\n",
    "### From a Database\n",
    "\n",
    "#### Tested packages for connecting to databases\n",
    "1. MySQL (mysql.connector)\n",
    "2. SQL Server / Sybase (pymssql)\n",
    "3. DB2 (ibm_db)\n",
    "4. PostgreSQL (psycopg2)\n",
    "5. MongoDB / Other NoSQL databases (pymongo)\n",
    "\n",
    "\n",
    "### From a file\n"
   ]
  },
  {
   "cell_type": "code",
   "execution_count": null,
   "metadata": {},
   "outputs": [],
   "source": [
    "# Read data from a csv file\n",
    "df = pd.read_csv('../data/dataset.csv')"
   ]
  },
  {
   "cell_type": "markdown",
   "metadata": {},
   "source": [
    "# Data Exploration with Pandas Dataframes\n",
    "\n",
    "- Get to know your data\n",
    "- number of rows, columns\n",
    "- what does the data look like?\n",
    "- summary of data\n",
    "- what types are in our dataset?"
   ]
  },
  {
   "cell_type": "code",
   "execution_count": null,
   "metadata": {},
   "outputs": [],
   "source": [
    "# What is the shape of your data?\n",
    "df.shape"
   ]
  },
  {
   "cell_type": "code",
   "execution_count": null,
   "metadata": {},
   "outputs": [],
   "source": [
    "# What do the first few rows look like?\n",
    "df.head()"
   ]
  },
  {
   "cell_type": "code",
   "execution_count": null,
   "metadata": {},
   "outputs": [],
   "source": [
    "# TODO: What do the last few rows look like?\n",
    "# Type your answer here:\n"
   ]
  },
  {
   "cell_type": "code",
   "execution_count": null,
   "metadata": {},
   "outputs": [],
   "source": [
    "# Get summary info on your dataset\n",
    "df.describe()"
   ]
  },
  {
   "cell_type": "code",
   "execution_count": null,
   "metadata": {},
   "outputs": [],
   "source": [
    "# What data types are in our dataset?\n",
    "df.dtypes"
   ]
  },
  {
   "cell_type": "markdown",
   "metadata": {},
   "source": [
    "# Manipulating Data with Pandas Dataframes"
   ]
  },
  {
   "cell_type": "code",
   "execution_count": null,
   "metadata": {},
   "outputs": [],
   "source": []
  },
  {
   "cell_type": "markdown",
   "metadata": {},
   "source": [
    "# Plotting and Visualization"
   ]
  },
  {
   "cell_type": "code",
   "execution_count": null,
   "metadata": {},
   "outputs": [],
   "source": []
  },
  {
   "cell_type": "markdown",
   "metadata": {},
   "source": [
    "# Export Your Script\n",
    "\n",
    "File -> Download As -> Python (.py)"
   ]
  },
  {
   "cell_type": "markdown",
   "metadata": {},
   "source": [
    "# Next Steps\n",
    "\n",
    "Take our next course!\n",
    "\n",
    "TODO: Add resources for learning"
   ]
  }
 ],
 "metadata": {
  "kernelspec": {
   "display_name": "Python 3",
   "language": "python",
   "name": "python3"
  },
  "language_info": {
   "codemirror_mode": {
    "name": "ipython",
    "version": 3
   },
   "file_extension": ".py",
   "mimetype": "text/x-python",
   "name": "python",
   "nbconvert_exporter": "python",
   "pygments_lexer": "ipython3",
   "version": "3.7.0"
  }
 },
 "nbformat": 4,
 "nbformat_minor": 2
}
