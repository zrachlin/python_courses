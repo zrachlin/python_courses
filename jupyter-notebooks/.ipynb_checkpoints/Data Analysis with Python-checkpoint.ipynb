{
 "cells": [
  {
   "cell_type": "markdown",
   "metadata": {},
   "source": [
    "# Introduction to Jupyter\n",
    "\n",
    "### Keyboard shortcuts\n",
    "\n",
    "- Pres Esc key to enable / disable\n",
    "- Executing cells - Esc, Shft-Enter OR Ctrl-Enter\n",
    "- Adding a cell above Esc, A\n",
    "- Adding a cell below - Esc, B\n",
    "- Delete a cell - Esc, D, D\n",
    "- Copy, Cut, Paste - Ctrl-C, Ctrl-X, Ctrl-V\n",
    "- Undo - Ctrl-Z\n",
    "- Select all - Ctrl-A\n",
    "- Comment Cell - Ctrl-/"
   ]
  },
  {
   "cell_type": "markdown",
   "metadata": {},
   "source": [
    "# Data Analysis with Python\n",
    "\n",
    "### Why use Python for Data Analysis?\n",
    "\n",
    "#### Python vs R\n",
    "- Infographic:  https://www.datacamp.com/community/tutorials/r-or-python-for-data-analysis\n",
    "- You can do most things in both languages\n",
    "- R was designed with statistical analyiss in mind / Python is a more general purpose language\n",
    "- Python is easier to learn and read\n",
    "- R is great for building standalone pipelines / Python is more flexible (Scripting / Web Applications)\n",
    "- You can run R code from Python and vice versa! (rPython in R, RPy2 in Python)\n",
    "- R built in data structures for large dataset (or use data.table package) / Python (pandas or NumPy)\n",
    "- Visualizations easier in R, but not easily integrated into Web Apps\n",
    "- Python is easier to learn\n",
    "- Both have great community support\n",
    "\n",
    "#### NumPy\n",
    "- Used for matrices with only one data type (Ex. gene expression data)\n",
    "- http://www.numpy.org/\n",
    "\n",
    "#### Pandas Dataframes\n",
    "- Used like a database, can store multiple different datatypes with column headers and row names\n",
    "- http://pandas.pydata.org/\n",
    "\n",
    "#### Plotting and Visualization - Matplotlib, plotly and Seaborn\n",
    "- Many good visualization libraries\n",
    "\n",
    "#### Machine Learning - Scikit Learn\n",
    "- Take our Machine Learning with Python Course!"
   ]
  },
  {
   "cell_type": "markdown",
   "metadata": {},
   "source": [
    "# Steps to Analyze Your Data\n",
    "\n",
    "1. Loading your data (csv, databases, text file, JSON/XML)\n",
    "2. Data Exploration\n",
    "3. Cleaning data\n",
    "4. Normalizing Data\n",
    "5. Analysis\n",
    "6. Plotting and Visualization"
   ]
  },
  {
   "cell_type": "markdown",
   "metadata": {},
   "source": [
    "# Managing Packages\n",
    "\n",
    "### PyPi\n",
    "- PyPi is the index of publicly available packages\n",
    "- https://pypi.org/\n",
    "\n",
    "### Pip\n",
    "- Check if pip is installed\n",
    "    1. Open a command prompt (Windows) or terminal (Mac)\n",
    "    2. Type 'python -V'\n",
    "    3. Type 'pip -V'\n",
    "- pip is the tool used for managing packages in Python\n",
    "- Installed with python3\n",
    "- Install all packages that are not a part of standard python library\n",
    "- https://pypi.org/project/pip/\n",
    "\n",
    "### Package we will use in this course\n",
    "- numpy, pandas, matplotlib, seaborn\n",
    "- Check what packages are installed with help(\"modules\")\n",
    "- Install packages from the command line\n",
    "    1. Open a command prompt (Windows) or Terminal (Mac)\n",
    "    2. Type 'pip install <package-name>' (ex. pip install pandas, pip install numpy)\n",
    "\n",
    "### Importing packages\n",
    "- use import statement to allow your code to use a package"
   ]
  },
  {
   "cell_type": "code",
   "execution_count": null,
   "metadata": {},
   "outputs": [],
   "source": [
    "# What packages are already installed?\n",
    "help(\"modules\")"
   ]
  },
  {
   "cell_type": "code",
   "execution_count": null,
   "metadata": {},
   "outputs": [],
   "source": [
    "import numpy\n",
    "import pandas as pd"
   ]
  },
  {
   "cell_type": "markdown",
   "metadata": {},
   "source": [
    "# Loading your Data\n",
    "\n",
    "### From a Database\n",
    "\n",
    "#### Tested packages for connecting to databases\n",
    "1. MySQL (mysql.connector)\n",
    "2. SQL Server / Sybase (pymssql)\n",
    "3. DB2 (ibm_db)\n",
    "4. PostgreSQL (psycopg2)\n",
    "5. MongoDB / Other NoSQL databases (pymongo)\n",
    "\n",
    "\n",
    "### From a file into Pandas\n",
    "- Read from a csv file\n",
    "read_csv()\n",
    "- Read from an excel file\n",
    "read_excel()\n",
    "- Read from a json file\n",
    "read_json()"
   ]
  },
  {
   "cell_type": "code",
   "execution_count": null,
   "metadata": {},
   "outputs": [],
   "source": [
    "# Read data from a csv file\n",
    "df = pd.read_csv('./data/breast_cancer.csv')"
   ]
  },
  {
   "cell_type": "markdown",
   "metadata": {},
   "source": [
    "# Data Exploration with Pandas Dataframes\n",
    "\n",
    "- Get to know your data\n",
    "- number of rows, columns\n",
    "- what does the data look like?\n",
    "- summary of data\n",
    "- what types are in our dataset?"
   ]
  },
  {
   "cell_type": "code",
   "execution_count": null,
   "metadata": {},
   "outputs": [],
   "source": [
    "# What is the shape of your data?\n",
    "df.shape"
   ]
  },
  {
   "cell_type": "code",
   "execution_count": null,
   "metadata": {},
   "outputs": [],
   "source": [
    "# What do the first five rows look like?\n",
    "df.head()"
   ]
  },
  {
   "cell_type": "code",
   "execution_count": null,
   "metadata": {},
   "outputs": [],
   "source": [
    "# What do the first 20 rows look like?\n",
    "# Type your answer here:"
   ]
  },
  {
   "cell_type": "code",
   "execution_count": null,
   "metadata": {},
   "outputs": [],
   "source": [
    "# TODO: What do the last five rows look like?\n",
    "# Type your answer here:\n"
   ]
  },
  {
   "cell_type": "code",
   "execution_count": null,
   "metadata": {},
   "outputs": [],
   "source": [
    "# Get summary statistics on your dataset\n",
    "df.describe()"
   ]
  },
  {
   "cell_type": "code",
   "execution_count": null,
   "metadata": {},
   "outputs": [],
   "source": [
    "# What data types are in our dataset?\n",
    "df.dtypes"
   ]
  },
  {
   "cell_type": "markdown",
   "metadata": {},
   "source": [
    "## Cleaning Data"
   ]
  },
  {
   "cell_type": "code",
   "execution_count": null,
   "metadata": {},
   "outputs": [],
   "source": [
    "# Let's look at the first 10 rows of data\n",
    "# Type code here:\n"
   ]
  },
  {
   "cell_type": "code",
   "execution_count": null,
   "metadata": {},
   "outputs": [],
   "source": [
    "# Identify missing values\n",
    "print(df.isnull())\n",
    "print(df.isna())"
   ]
  },
  {
   "cell_type": "code",
   "execution_count": null,
   "metadata": {},
   "outputs": [],
   "source": [
    "# Are there any missing values?\n",
    "print(df.isnull().values.any())"
   ]
  },
  {
   "cell_type": "code",
   "execution_count": null,
   "metadata": {},
   "outputs": [],
   "source": [
    "# Which columns contain missing values?\n",
    "print(df.columns[df.isnull().any()].tolist())"
   ]
  },
  {
   "cell_type": "code",
   "execution_count": null,
   "metadata": {},
   "outputs": [],
   "source": [
    "# Replace null values with 0\n",
    "df_clean = df.fillna(0.0)\n",
    "df_clean.head()"
   ]
  },
  {
   "cell_type": "code",
   "execution_count": null,
   "metadata": {},
   "outputs": [],
   "source": [
    "# Drop a single column, create a new dataframe\n",
    "df_clean = df_clean.drop(columns=['bad_data'])\n",
    "df_clean.head()"
   ]
  },
  {
   "cell_type": "markdown",
   "metadata": {},
   "source": [
    "# Manipulating Data with Pandas Dataframes"
   ]
  },
  {
   "cell_type": "code",
   "execution_count": 74,
   "metadata": {
    "scrolled": true
   },
   "outputs": [
    {
     "name": "stdout",
     "output_type": "stream",
     "text": [
      "Index(['id', 'diagnosis', 'radius_mean', 'texture_mean', 'perimeter_mean',\n",
      "       'area_mean', 'smoothness_mean', 'compactness_mean', 'concavity_mean',\n",
      "       'concave points_mean', 'symmetry_mean', 'fractal_dimension_mean',\n",
      "       'radius_se', 'texture_se', 'perimeter_se', 'area_se', 'smoothness_se',\n",
      "       'compactness_se', 'concavity_se', 'concave points_se', 'symmetry_se',\n",
      "       'fractal_dimension_se', 'radius_worst', 'texture_worst',\n",
      "       'perimeter_worst', 'area_worst', 'smoothness_worst',\n",
      "       'compactness_worst', 'concavity_worst', 'concave points_worst',\n",
      "       'symmetry_worst', 'fractal_dimension_worst'],\n",
      "      dtype='object')\n",
      "<class 'pandas.core.indexes.base.Index'>\n"
     ]
    }
   ],
   "source": [
    "# Retrieve the columns\n",
    "columns = df_clean.columns\n",
    "print(columns)\n",
    "print(type(columns))"
   ]
  },
  {
   "cell_type": "code",
   "execution_count": 75,
   "metadata": {
    "scrolled": true
   },
   "outputs": [
    {
     "name": "stdout",
     "output_type": "stream",
     "text": [
      "['id', 'diagnosis', 'radius_mean', 'texture_mean', 'perimeter_mean', 'area_mean', 'smoothness_mean', 'compactness_mean', 'concavity_mean', 'concave points_mean', 'symmetry_mean', 'fractal_dimension_mean', 'radius_se', 'texture_se', 'perimeter_se', 'area_se', 'smoothness_se', 'compactness_se', 'concavity_se', 'concave points_se', 'symmetry_se', 'fractal_dimension_se', 'radius_worst', 'texture_worst', 'perimeter_worst', 'area_worst', 'smoothness_worst', 'compactness_worst', 'concavity_worst', 'concave points_worst', 'symmetry_worst', 'fractal_dimension_worst']\n",
      "<class 'list'>\n"
     ]
    }
   ],
   "source": [
    "# Convert a pandas index to a Python list()\n",
    "columns = list(df_clean.columns)\n",
    "print(columns)\n",
    "print(type(columns))"
   ]
  },
  {
   "cell_type": "markdown",
   "metadata": {},
   "source": [
    "## Creating a Correlation"
   ]
  },
  {
   "cell_type": "code",
   "execution_count": 76,
   "metadata": {},
   "outputs": [
    {
     "name": "stdout",
     "output_type": "stream",
     "text": [
      "                               id  radius_mean  texture_mean  perimeter_mean  \\\n",
      "id                       1.000000     0.074626      0.099770        0.073159   \n",
      "radius_mean              0.074626     1.000000      0.323782        0.997855   \n",
      "texture_mean             0.099770     0.323782      1.000000        0.329533   \n",
      "perimeter_mean           0.073159     0.997855      0.329533        1.000000   \n",
      "area_mean                0.096893     0.987357      0.321086        0.986507   \n",
      "smoothness_mean         -0.012968     0.170581     -0.023389        0.207278   \n",
      "compactness_mean         0.000096     0.506124      0.236702        0.556936   \n",
      "concavity_mean           0.050080     0.676764      0.302418        0.716136   \n",
      "concave points_mean      0.044158     0.822529      0.293464        0.850977   \n",
      "symmetry_mean           -0.022114     0.147741      0.071401        0.183027   \n",
      "fractal_dimension_mean  -0.052511    -0.311631     -0.076437       -0.261477   \n",
      "radius_se                0.143048     0.679090      0.275869        0.691765   \n",
      "texture_se              -0.007526    -0.097317      0.386358       -0.086761   \n",
      "perimeter_se             0.137331     0.674172      0.281673        0.693135   \n",
      "area_se                  0.177742     0.735864      0.259845        0.744983   \n",
      "smoothness_se            0.096781    -0.222600      0.006614       -0.202694   \n",
      "compactness_se           0.033961     0.206000      0.191975        0.250744   \n",
      "concavity_se             0.055239     0.194204      0.143293        0.228082   \n",
      "concave points_se        0.078768     0.376169      0.163851        0.407217   \n",
      "symmetry_se             -0.017306    -0.104321      0.009127       -0.081629   \n",
      "fractal_dimension_se     0.025725    -0.042641      0.054458       -0.005523   \n",
      "radius_worst             0.082405     0.969539      0.352573        0.969476   \n",
      "texture_worst            0.064720     0.297008      0.912045        0.303038   \n",
      "perimeter_worst          0.079986     0.965137      0.358040        0.970387   \n",
      "area_worst               0.107187     0.941082      0.343546        0.941550   \n",
      "smoothness_worst         0.010338     0.119616      0.077503        0.150549   \n",
      "compactness_worst       -0.002968     0.413463      0.277830        0.455774   \n",
      "concavity_worst          0.023203     0.526911      0.301025        0.563879   \n",
      "concave points_worst     0.035174     0.744214      0.295316        0.771241   \n",
      "symmetry_worst          -0.044224     0.163953      0.105008        0.189115   \n",
      "fractal_dimension_worst -0.029866     0.007066      0.119205        0.051019   \n",
      "bad_data                      NaN          NaN           NaN             NaN   \n",
      "\n",
      "                         area_mean  smoothness_mean  compactness_mean  \\\n",
      "id                        0.096893        -0.012968          0.000096   \n",
      "radius_mean               0.987357         0.170581          0.506124   \n",
      "texture_mean              0.321086        -0.023389          0.236702   \n",
      "perimeter_mean            0.986507         0.207278          0.556936   \n",
      "area_mean                 1.000000         0.177028          0.498502   \n",
      "smoothness_mean           0.177028         1.000000          0.659123   \n",
      "compactness_mean          0.498502         0.659123          1.000000   \n",
      "concavity_mean            0.685983         0.521984          0.883121   \n",
      "concave points_mean       0.823269         0.553695          0.831135   \n",
      "symmetry_mean             0.151293         0.557775          0.602641   \n",
      "fractal_dimension_mean   -0.283110         0.584792          0.565369   \n",
      "radius_se                 0.732562         0.301467          0.497473   \n",
      "texture_se               -0.066280         0.068406          0.046205   \n",
      "perimeter_se              0.726628         0.296092          0.548905   \n",
      "area_se                   0.800086         0.246552          0.455653   \n",
      "smoothness_se            -0.166777         0.332375          0.135299   \n",
      "compactness_se            0.212583         0.318943          0.738722   \n",
      "concavity_se              0.207660         0.248396          0.570517   \n",
      "concave points_se         0.372320         0.380676          0.642262   \n",
      "symmetry_se              -0.072497         0.200774          0.229977   \n",
      "fractal_dimension_se     -0.019887         0.283607          0.507318   \n",
      "radius_worst              0.962746         0.213120          0.535315   \n",
      "texture_worst             0.287489         0.036072          0.248133   \n",
      "perimeter_worst           0.959120         0.238853          0.590210   \n",
      "area_worst                0.959213         0.206718          0.509604   \n",
      "smoothness_worst          0.123523         0.805324          0.565541   \n",
      "compactness_worst         0.390410         0.472468          0.865809   \n",
      "concavity_worst           0.512606         0.434926          0.816275   \n",
      "concave points_worst      0.722017         0.503053          0.815573   \n",
      "symmetry_worst            0.143570         0.394309          0.510223   \n",
      "fractal_dimension_worst   0.003738         0.499316          0.687382   \n",
      "bad_data                       NaN              NaN               NaN   \n",
      "\n",
      "                         concavity_mean  concave points_mean  symmetry_mean  \\\n",
      "id                             0.050080             0.044158      -0.022114   \n",
      "radius_mean                    0.676764             0.822529       0.147741   \n",
      "texture_mean                   0.302418             0.293464       0.071401   \n",
      "perimeter_mean                 0.716136             0.850977       0.183027   \n",
      "area_mean                      0.685983             0.823269       0.151293   \n",
      "smoothness_mean                0.521984             0.553695       0.557775   \n",
      "compactness_mean               0.883121             0.831135       0.602641   \n",
      "concavity_mean                 1.000000             0.921391       0.500667   \n",
      "concave points_mean            0.921391             1.000000       0.462497   \n",
      "symmetry_mean                  0.500667             0.462497       1.000000   \n",
      "fractal_dimension_mean         0.336783             0.166917       0.479921   \n",
      "radius_se                      0.631925             0.698050       0.303379   \n",
      "texture_se                     0.076218             0.021480       0.128053   \n",
      "perimeter_se                   0.660391             0.710650       0.313893   \n",
      "area_se                        0.617427             0.690299       0.223970   \n",
      "smoothness_se                  0.098564             0.027653       0.187321   \n",
      "compactness_se                 0.670279             0.490424       0.421659   \n",
      "concavity_se                   0.691270             0.439167       0.342627   \n",
      "concave points_se              0.683260             0.615634       0.393298   \n",
      "symmetry_se                    0.178009             0.095351       0.449137   \n",
      "fractal_dimension_se           0.449301             0.257584       0.331786   \n",
      "radius_worst                   0.688236             0.830318       0.185728   \n",
      "texture_worst                  0.299879             0.292752       0.090651   \n",
      "perimeter_worst                0.729565             0.855923       0.219169   \n",
      "area_worst                     0.675987             0.809630       0.177193   \n",
      "smoothness_worst               0.448822             0.452753       0.426675   \n",
      "compactness_worst              0.754968             0.667454       0.473200   \n",
      "concavity_worst                0.884103             0.752399       0.433721   \n",
      "concave points_worst           0.861323             0.910155       0.430297   \n",
      "symmetry_worst                 0.409464             0.375744       0.699826   \n",
      "fractal_dimension_worst        0.514930             0.368661       0.438413   \n",
      "bad_data                            NaN                  NaN            NaN   \n",
      "\n",
      "                         ...  texture_worst  perimeter_worst  area_worst  \\\n",
      "id                       ...       0.064720         0.079986    0.107187   \n",
      "radius_mean              ...       0.297008         0.965137    0.941082   \n",
      "texture_mean             ...       0.912045         0.358040    0.343546   \n",
      "perimeter_mean           ...       0.303038         0.970387    0.941550   \n",
      "area_mean                ...       0.287489         0.959120    0.959213   \n",
      "smoothness_mean          ...       0.036072         0.238853    0.206718   \n",
      "compactness_mean         ...       0.248133         0.590210    0.509604   \n",
      "concavity_mean           ...       0.299879         0.729565    0.675987   \n",
      "concave points_mean      ...       0.292752         0.855923    0.809630   \n",
      "symmetry_mean            ...       0.090651         0.219169    0.177193   \n",
      "fractal_dimension_mean   ...      -0.051269        -0.205151   -0.231854   \n",
      "radius_se                ...       0.194799         0.719684    0.751548   \n",
      "texture_se               ...       0.409003        -0.102242   -0.083195   \n",
      "perimeter_se             ...       0.200371         0.721031    0.730713   \n",
      "area_se                  ...       0.196497         0.761213    0.811408   \n",
      "smoothness_se            ...      -0.074743        -0.217304   -0.182195   \n",
      "compactness_se           ...       0.143003         0.260516    0.199371   \n",
      "concavity_se             ...       0.100241         0.226680    0.188353   \n",
      "concave points_se        ...       0.086741         0.394999    0.342271   \n",
      "symmetry_se              ...      -0.077473        -0.103753   -0.110343   \n",
      "fractal_dimension_se     ...      -0.003195        -0.001000   -0.022736   \n",
      "radius_worst             ...       0.359921         0.993708    0.984015   \n",
      "texture_worst            ...       1.000000         0.365098    0.345842   \n",
      "perimeter_worst          ...       0.365098         1.000000    0.977578   \n",
      "area_worst               ...       0.345842         0.977578    1.000000   \n",
      "smoothness_worst         ...       0.225429         0.236775    0.209145   \n",
      "compactness_worst        ...       0.360832         0.529408    0.438296   \n",
      "concavity_worst          ...       0.368366         0.618344    0.543331   \n",
      "concave points_worst     ...       0.359755         0.816322    0.747419   \n",
      "symmetry_worst           ...       0.233027         0.269493    0.209146   \n",
      "fractal_dimension_worst  ...       0.219122         0.138957    0.079647   \n",
      "bad_data                 ...            NaN              NaN         NaN   \n",
      "\n",
      "                         smoothness_worst  compactness_worst  concavity_worst  \\\n",
      "id                               0.010338          -0.002968         0.023203   \n",
      "radius_mean                      0.119616           0.413463         0.526911   \n",
      "texture_mean                     0.077503           0.277830         0.301025   \n",
      "perimeter_mean                   0.150549           0.455774         0.563879   \n",
      "area_mean                        0.123523           0.390410         0.512606   \n",
      "smoothness_mean                  0.805324           0.472468         0.434926   \n",
      "compactness_mean                 0.565541           0.865809         0.816275   \n",
      "concavity_mean                   0.448822           0.754968         0.884103   \n",
      "concave points_mean              0.452753           0.667454         0.752399   \n",
      "symmetry_mean                    0.426675           0.473200         0.433721   \n",
      "fractal_dimension_mean           0.504942           0.458798         0.346234   \n",
      "radius_se                        0.141919           0.287103         0.380585   \n",
      "texture_se                      -0.073658          -0.092439        -0.068956   \n",
      "perimeter_se                     0.130054           0.341919         0.418899   \n",
      "area_se                          0.125389           0.283257         0.385100   \n",
      "smoothness_se                    0.314457          -0.055558        -0.058298   \n",
      "compactness_se                   0.227394           0.678780         0.639147   \n",
      "concavity_se                     0.168481           0.484858         0.662564   \n",
      "concave points_se                0.215351           0.452888         0.549592   \n",
      "symmetry_se                     -0.012662           0.060255         0.037119   \n",
      "fractal_dimension_se             0.170568           0.390159         0.379975   \n",
      "radius_worst                     0.216574           0.475820         0.573975   \n",
      "texture_worst                    0.225429           0.360832         0.368366   \n",
      "perimeter_worst                  0.236775           0.529408         0.618344   \n",
      "area_worst                       0.209145           0.438296         0.543331   \n",
      "smoothness_worst                 1.000000           0.568187         0.518523   \n",
      "compactness_worst                0.568187           1.000000         0.892261   \n",
      "concavity_worst                  0.518523           0.892261         1.000000   \n",
      "concave points_worst             0.547691           0.801080         0.855434   \n",
      "symmetry_worst                   0.493838           0.614441         0.532520   \n",
      "fractal_dimension_worst          0.617624           0.810455         0.686511   \n",
      "bad_data                              NaN                NaN              NaN   \n",
      "\n",
      "                         concave points_worst  symmetry_worst  \\\n",
      "id                                   0.035174       -0.044224   \n",
      "radius_mean                          0.744214        0.163953   \n",
      "texture_mean                         0.295316        0.105008   \n",
      "perimeter_mean                       0.771241        0.189115   \n",
      "area_mean                            0.722017        0.143570   \n",
      "smoothness_mean                      0.503053        0.394309   \n",
      "compactness_mean                     0.815573        0.510223   \n",
      "concavity_mean                       0.861323        0.409464   \n",
      "concave points_mean                  0.910155        0.375744   \n",
      "symmetry_mean                        0.430297        0.699826   \n",
      "fractal_dimension_mean               0.175325        0.334019   \n",
      "radius_se                            0.531062        0.094543   \n",
      "texture_se                          -0.119638       -0.128215   \n",
      "perimeter_se                         0.554897        0.109930   \n",
      "area_se                              0.538166        0.074126   \n",
      "smoothness_se                       -0.102007       -0.107342   \n",
      "compactness_se                       0.483208        0.277878   \n",
      "concavity_se                         0.440472        0.197788   \n",
      "concave points_se                    0.602450        0.143116   \n",
      "symmetry_se                         -0.030413        0.389402   \n",
      "fractal_dimension_se                 0.215204        0.111094   \n",
      "radius_worst                         0.787424        0.243529   \n",
      "texture_worst                        0.359755        0.233027   \n",
      "perimeter_worst                      0.816322        0.269493   \n",
      "area_worst                           0.747419        0.209146   \n",
      "smoothness_worst                     0.547691        0.493838   \n",
      "compactness_worst                    0.801080        0.614441   \n",
      "concavity_worst                      0.855434        0.532520   \n",
      "concave points_worst                 1.000000        0.502528   \n",
      "symmetry_worst                       0.502528        1.000000   \n",
      "fractal_dimension_worst              0.511114        0.537848   \n",
      "bad_data                                  NaN             NaN   \n",
      "\n",
      "                         fractal_dimension_worst  bad_data  \n",
      "id                                     -0.029866       NaN  \n",
      "radius_mean                             0.007066       NaN  \n",
      "texture_mean                            0.119205       NaN  \n",
      "perimeter_mean                          0.051019       NaN  \n",
      "area_mean                               0.003738       NaN  \n",
      "smoothness_mean                         0.499316       NaN  \n",
      "compactness_mean                        0.687382       NaN  \n",
      "concavity_mean                          0.514930       NaN  \n",
      "concave points_mean                     0.368661       NaN  \n",
      "symmetry_mean                           0.438413       NaN  \n",
      "fractal_dimension_mean                  0.767297       NaN  \n",
      "radius_se                               0.049559       NaN  \n",
      "texture_se                             -0.045655       NaN  \n",
      "perimeter_se                            0.085433       NaN  \n",
      "area_se                                 0.017539       NaN  \n",
      "smoothness_se                           0.101480       NaN  \n",
      "compactness_se                          0.590973       NaN  \n",
      "concavity_se                            0.439329       NaN  \n",
      "concave points_se                       0.310655       NaN  \n",
      "symmetry_se                             0.078079       NaN  \n",
      "fractal_dimension_se                    0.591328       NaN  \n",
      "radius_worst                            0.093492       NaN  \n",
      "texture_worst                           0.219122       NaN  \n",
      "perimeter_worst                         0.138957       NaN  \n",
      "area_worst                              0.079647       NaN  \n",
      "smoothness_worst                        0.617624       NaN  \n",
      "compactness_worst                       0.810455       NaN  \n",
      "concavity_worst                         0.686511       NaN  \n",
      "concave points_worst                    0.511114       NaN  \n",
      "symmetry_worst                          0.537848       NaN  \n",
      "fractal_dimension_worst                 1.000000       NaN  \n",
      "bad_data                                     NaN       NaN  \n",
      "\n",
      "[32 rows x 32 columns]\n"
     ]
    }
   ],
   "source": [
    "# Use pandas built-in correlation function\n",
    "correlation = df.corr()\n",
    "print(correlation)"
   ]
  },
  {
   "cell_type": "markdown",
   "metadata": {},
   "source": [
    "# Plotting and Visualization"
   ]
  },
  {
   "cell_type": "code",
   "execution_count": null,
   "metadata": {},
   "outputs": [],
   "source": []
  },
  {
   "cell_type": "markdown",
   "metadata": {},
   "source": [
    "# Export Your Script\n",
    "\n",
    "File -> Download As -> Python (.py)"
   ]
  },
  {
   "cell_type": "markdown",
   "metadata": {},
   "source": [
    "# Next Steps\n",
    "\n",
    "Take our next course!\n",
    "\n",
    "TODO: Add resources for learning"
   ]
  }
 ],
 "metadata": {
  "kernelspec": {
   "display_name": "Python 3",
   "language": "python",
   "name": "python3"
  },
  "language_info": {
   "codemirror_mode": {
    "name": "ipython",
    "version": 3
   },
   "file_extension": ".py",
   "mimetype": "text/x-python",
   "name": "python",
   "nbconvert_exporter": "python",
   "pygments_lexer": "ipython3",
   "version": "3.7.0"
  }
 },
 "nbformat": 4,
 "nbformat_minor": 2
}
