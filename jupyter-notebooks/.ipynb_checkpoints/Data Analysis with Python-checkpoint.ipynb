{
 "cells": [
  {
   "cell_type": "markdown",
   "metadata": {},
   "source": [
    "# Introduction to Jupyter\n",
    "\n",
    "### Keyboard shortcuts\n",
    "\n",
    "- Pres Esc key to enable / disable\n",
    "- Executing cells - Esc, Shft-Enter OR Ctrl-Enter\n",
    "- Adding a cell above Esc, A\n",
    "- Adding a cell below - Esc, B\n",
    "- Delete a cell - Esc, D, D\n",
    "- Copy, Cut, Paste - Ctrl-C, Ctrl-X, Ctrl-V\n",
    "- Undo - Ctrl-Z\n",
    "- Select all - Ctrl-A\n",
    "- Comment Cell - Ctrl-/"
   ]
  },
  {
   "cell_type": "markdown",
   "metadata": {},
   "source": [
    "# Data Analysis with Python\n",
    "\n",
    "### Why use Python for Data Analysis?\n",
    "\n",
    "#### R vs. Python\n",
    "<TODO>\n",
    "\n",
    "#### NumPy\n",
    "\n",
    "#### Pandas Dataframes\n",
    "\n",
    "#### Plotting and Visualization - Matplotlib, plotly and Seaborn\n",
    "\n",
    "#### Machine Learning - Scikit Learn (In our third course of the day)\n",
    "\n",
    "### Steps to Analyze Your Data\n",
    "\n",
    "1. Reading in your data (csv, databases, text file, JSON/XML)\n",
    "2. Data Exploration\n",
    "3. Cleaning data\n",
    "4. Normalizing Data\n",
    "5. Analysis\n",
    "6. Plotting and Visualization"
   ]
  },
  {
   "cell_type": "markdown",
   "metadata": {},
   "source": [
    "# Loading Your Data\n",
    "\n",
    "### Some good database packages\n",
    "\n",
    "\n",
    "### Reading a csv file\n"
   ]
  },
  {
   "cell_type": "code",
   "execution_count": null,
   "metadata": {},
   "outputs": [],
   "source": []
  },
  {
   "cell_type": "markdown",
   "metadata": {},
   "source": [
    "# Data Manipulations with List Comprehensions\n",
    "\n",
    "1. List comprehensions\n",
    "2. Normalizing Data\n",
    "3. Plot normalized data\n",
    "\n"
   ]
  },
  {
   "cell_type": "code",
   "execution_count": null,
   "metadata": {
    "scrolled": true
   },
   "outputs": [],
   "source": []
  },
  {
   "cell_type": "markdown",
   "metadata": {},
   "source": [
    "# Subsetting and Slicing\n",
    "\n",
    "1. Subsetting data"
   ]
  },
  {
   "cell_type": "code",
   "execution_count": null,
   "metadata": {},
   "outputs": [],
   "source": []
  },
  {
   "cell_type": "markdown",
   "metadata": {},
   "source": [
    "# Pip Package Manager\n",
    "\n",
    "1. What is a package?\n",
    "2. Examples of common packages\n",
    "3. Specifically ones we need\n",
    "    matplotlib or plotly"
   ]
  },
  {
   "cell_type": "code",
   "execution_count": null,
   "metadata": {},
   "outputs": [],
   "source": []
  },
  {
   "cell_type": "markdown",
   "metadata": {},
   "source": [
    "# Muli-dimensional Arrays with NumPy\n",
    "\n",
    "1. Load data into NumPy Array"
   ]
  },
  {
   "cell_type": "code",
   "execution_count": null,
   "metadata": {},
   "outputs": [],
   "source": []
  },
  {
   "cell_type": "markdown",
   "metadata": {},
   "source": [
    "# Manipulating Data with Pandas Dataframes"
   ]
  },
  {
   "cell_type": "code",
   "execution_count": null,
   "metadata": {},
   "outputs": [],
   "source": []
  },
  {
   "cell_type": "markdown",
   "metadata": {},
   "source": [
    "# Plotting and Visualization"
   ]
  },
  {
   "cell_type": "code",
   "execution_count": null,
   "metadata": {},
   "outputs": [],
   "source": []
  },
  {
   "cell_type": "markdown",
   "metadata": {},
   "source": [
    "# Export Your Script\n",
    "\n",
    "File -> Download As -> Python (.py)"
   ]
  },
  {
   "cell_type": "markdown",
   "metadata": {},
   "source": [
    "# Next Steps\n",
    "\n",
    "Take our next course!\n",
    "\n",
    "TODO: Add resources for learning"
   ]
  }
 ],
 "metadata": {
  "kernelspec": {
   "display_name": "Python 3",
   "language": "python",
   "name": "python3"
  },
  "language_info": {
   "codemirror_mode": {
    "name": "ipython",
    "version": 3
   },
   "file_extension": ".py",
   "mimetype": "text/x-python",
   "name": "python",
   "nbconvert_exporter": "python",
   "pygments_lexer": "ipython3",
   "version": "3.7.0"
  }
 },
 "nbformat": 4,
 "nbformat_minor": 2
}
